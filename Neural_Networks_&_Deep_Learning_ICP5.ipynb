{
  "nbformat": 4,
  "nbformat_minor": 0,
  "metadata": {
    "colab": {
      "provenance": [],
      "mount_file_id": "1YqlfB52UAm8U6MyrnYB_ipHV4DpLHuF4",
      "authorship_tag": "ABX9TyMefpEnmdkDluPj4wIFDHpC",
      "include_colab_link": true
    },
    "kernelspec": {
      "name": "python3",
      "display_name": "Python 3"
    },
    "language_info": {
      "name": "python"
    }
  },
  "cells": [
    {
      "cell_type": "markdown",
      "metadata": {
        "id": "view-in-github",
        "colab_type": "text"
      },
      "source": [
        "<a href=\"https://colab.research.google.com/github/SanjnaReddy27/Fall-2023-CS5720/blob/main/Neural_Networks_%26_Deep_Learning_ICP5.ipynb\" target=\"_parent\"><img src=\"https://colab.research.google.com/assets/colab-badge.svg\" alt=\"Open In Colab\"/></a>"
      ]
    },
    {
      "cell_type": "markdown",
      "source": [
        "1. Implement Naïve Bayes method using scikit-learn library\n",
        "\n",
        "Use dataset available with name glass\n",
        "\n",
        "Use train_test_split to create training and testing part\n",
        "\n",
        "Evaluate the model on test part using score and\n",
        "\n",
        "classification_report(y_true, y_pred)"
      ],
      "metadata": {
        "id": "5hJ8suyoXByY"
      }
    },
    {
      "cell_type": "code",
      "source": [
        "# Import necessary libraries\n",
        "import numpy as np\n",
        "import pandas as pd\n",
        "from sklearn.model_selection import train_test_split\n",
        "from sklearn.naive_bayes import GaussianNB\n",
        "from sklearn.metrics import classification_report\n",
        "\n",
        "# Load the Glass dataset\n",
        "data = pd.read_csv('/content/drive/MyDrive/glass.csv')\n",
        "\n",
        "# Split the data into features (X) and target (y)\n",
        "X = data.drop(\"Type\", axis=1)\n",
        "y = data[\"Type\"]\n",
        "\n",
        "# Split the data into training and testing sets (80% train, 20% test)\n",
        "X_train, X_test, y_train, y_test = train_test_split(X, y, test_size=0.2, random_state=42)\n",
        "\n",
        "# Initialize and train the Naïve Bayes classifier (GaussianNB)\n",
        "naive_bayes_classifier = GaussianNB()\n",
        "naive_bayes_classifier.fit(X_train, y_train)\n",
        "\n",
        "# Evaluate the model on the test set using the 'score' method\n",
        "accuracy = naive_bayes_classifier.score(X_test, y_test)\n",
        "print(f\"Accuracy: {accuracy:.2f}\")\n",
        "\n",
        "# Make predictions on the test set\n",
        "y_pred = naive_bayes_classifier.predict(X_test)\n",
        "\n",
        "# Generate and print the classification report\n",
        "report = classification_report(y_test, y_pred, target_names=[f\"Class {i}\" for i in range(1, 7)])\n",
        "print(\"Classification Report for Naïve Bayes method:\")\n",
        "print(report)\n"
      ],
      "metadata": {
        "colab": {
          "base_uri": "https://localhost:8080/"
        },
        "id": "xbWDUMJA1KR1",
        "outputId": "2c312b87-fe75-46e5-b82d-5d907a372ba9"
      },
      "execution_count": 12,
      "outputs": [
        {
          "output_type": "stream",
          "name": "stdout",
          "text": [
            "Accuracy: 0.56\n",
            "Classification Report for Naïve Bayes method:\n",
            "              precision    recall  f1-score   support\n",
            "\n",
            "     Class 1       0.41      0.64      0.50        11\n",
            "     Class 2       0.43      0.21      0.29        14\n",
            "     Class 3       0.40      0.67      0.50         3\n",
            "     Class 4       0.50      0.25      0.33         4\n",
            "     Class 5       1.00      1.00      1.00         3\n",
            "     Class 6       0.89      1.00      0.94         8\n",
            "\n",
            "    accuracy                           0.56        43\n",
            "   macro avg       0.60      0.63      0.59        43\n",
            "weighted avg       0.55      0.56      0.53        43\n",
            "\n"
          ]
        }
      ]
    },
    {
      "cell_type": "markdown",
      "source": [
        "2. Implement linear SVM method using scikit library\n",
        "\n",
        "Use the same dataset above\n",
        "\n",
        "Use train_test_split to create training and testing part\n",
        "\n",
        "Evaluate the model on test part using score and\n",
        "\n",
        "classification_report(y_true, y_pred)\n",
        "\n",
        "Which algorithm you got better accuracy? Can you justify why?"
      ],
      "metadata": {
        "id": "BoSvw4yzXHaz"
      }
    },
    {
      "cell_type": "code",
      "execution_count": 13,
      "metadata": {
        "colab": {
          "base_uri": "https://localhost:8080/"
        },
        "id": "ELDOXATF1Bgo",
        "outputId": "5087a603-7a50-4128-8c0b-ceee128b824e"
      },
      "outputs": [
        {
          "output_type": "stream",
          "name": "stdout",
          "text": [
            "Linear SVM Accuracy: 0.74\n",
            "Classification Report for Linear SVM method:\n",
            "              precision    recall  f1-score   support\n",
            "\n",
            "     Class 1       0.69      0.82      0.75        11\n",
            "     Class 2       0.67      0.71      0.69        14\n",
            "     Class 3       0.00      0.00      0.00         3\n",
            "     Class 4       0.80      1.00      0.89         4\n",
            "     Class 5       1.00      0.67      0.80         3\n",
            "     Class 6       0.88      0.88      0.88         8\n",
            "\n",
            "    accuracy                           0.74        43\n",
            "   macro avg       0.67      0.68      0.67        43\n",
            "weighted avg       0.70      0.74      0.72        43\n",
            "\n"
          ]
        },
        {
          "output_type": "stream",
          "name": "stderr",
          "text": [
            "/usr/local/lib/python3.10/dist-packages/sklearn/metrics/_classification.py:1344: UndefinedMetricWarning: Precision and F-score are ill-defined and being set to 0.0 in labels with no predicted samples. Use `zero_division` parameter to control this behavior.\n",
            "  _warn_prf(average, modifier, msg_start, len(result))\n",
            "/usr/local/lib/python3.10/dist-packages/sklearn/metrics/_classification.py:1344: UndefinedMetricWarning: Precision and F-score are ill-defined and being set to 0.0 in labels with no predicted samples. Use `zero_division` parameter to control this behavior.\n",
            "  _warn_prf(average, modifier, msg_start, len(result))\n",
            "/usr/local/lib/python3.10/dist-packages/sklearn/metrics/_classification.py:1344: UndefinedMetricWarning: Precision and F-score are ill-defined and being set to 0.0 in labels with no predicted samples. Use `zero_division` parameter to control this behavior.\n",
            "  _warn_prf(average, modifier, msg_start, len(result))\n"
          ]
        }
      ],
      "source": [
        "# Import necessary libraries\n",
        "import numpy as np\n",
        "import pandas as pd\n",
        "from sklearn.model_selection import train_test_split\n",
        "from sklearn.svm import SVC\n",
        "from sklearn.metrics import classification_report\n",
        "\n",
        "# Load the Glass dataset (if not already loaded)\n",
        "data = pd.read_csv('/content/drive/MyDrive/glass.csv')\n",
        "\n",
        "# Split the data into features (X) and target (y)\n",
        "X = data.drop(\"Type\", axis=1)\n",
        "y = data[\"Type\"]\n",
        "\n",
        "# Split the data into training and testing sets (80% train, 20% test)\n",
        "X_train, X_test, y_train, y_test = train_test_split(X, y, test_size=0.2, random_state=42)\n",
        "\n",
        "# Initialize and train the Linear SVM classifier (SVC)\n",
        "svm_classifier = SVC(kernel='linear')\n",
        "svm_classifier.fit(X_train, y_train)\n",
        "\n",
        "# Evaluate the model on the test set using the 'score' method\n",
        "svm_accuracy = svm_classifier.score(X_test, y_test)\n",
        "print(f\"Linear SVM Accuracy: {svm_accuracy:.2f}\")\n",
        "\n",
        "# Make predictions on the test set\n",
        "y_pred_svm = svm_classifier.predict(X_test)\n",
        "\n",
        "# Generate and print the classification report for Linear SVM\n",
        "svm_report = classification_report(y_test, y_pred_svm, target_names=[f\"Class {i}\" for i in range(1, 7)])\n",
        "print(\"Classification Report for Linear SVM method:\")\n",
        "print(svm_report)\n"
      ]
    }
  ]
}