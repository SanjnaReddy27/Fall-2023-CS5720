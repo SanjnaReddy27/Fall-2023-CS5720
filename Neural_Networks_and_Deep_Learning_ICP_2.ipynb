{
  "nbformat": 4,
  "nbformat_minor": 0,
  "metadata": {
    "colab": {
      "provenance": [],
      "mount_file_id": "1vR7aPbQRhFykYu7PVP16iHa1bfKyyu5z",
      "authorship_tag": "ABX9TyMgwyzOEadfWjVEfre/vpD7",
      "include_colab_link": true
    },
    "kernelspec": {
      "name": "python3",
      "display_name": "Python 3"
    },
    "language_info": {
      "name": "python"
    }
  },
  "cells": [
    {
      "cell_type": "markdown",
      "metadata": {
        "id": "view-in-github",
        "colab_type": "text"
      },
      "source": [
        "<a href=\"https://colab.research.google.com/github/SanjnaReddy27/Fall-2023-CS5720/blob/main/Neural_Networks_and_Deep_Learning_ICP_2.ipynb\" target=\"_parent\"><img src=\"https://colab.research.google.com/assets/colab-badge.svg\" alt=\"Open In Colab\"/></a>"
      ]
    },
    {
      "cell_type": "markdown",
      "source": [
        "1. Write a program that takes two strings from the user: first_name, last_name. Pass these variables to\n",
        "fullname function that should return the (full name).\n",
        "\n",
        "o For example:\n",
        "▪ First_name = “your first name”, last_name = “your last name”\n",
        "▪ Full_name = “your full name”"
      ],
      "metadata": {
        "id": "wVb1rwyok6_u"
      }
    },
    {
      "cell_type": "code",
      "execution_count": 2,
      "metadata": {
        "colab": {
          "base_uri": "https://localhost:8080/"
        },
        "id": "1-h66y3efsYI",
        "outputId": "5053c635-4e6c-406e-8db5-8d4f73ec837f"
      },
      "outputs": [
        {
          "output_type": "stream",
          "name": "stdout",
          "text": [
            "Enter first name: Sanjna\n",
            "Enter last name: Reddy\n",
            "Full name is:  Sanjna Reddy\n"
          ]
        }
      ],
      "source": [
        "variable1 = input(\"Enter first name: \")\n",
        "variable2 = input(\"Enter last name: \")\n",
        "print(\"Full name is: \", (variable1 + ' ' + variable2))"
      ]
    },
    {
      "cell_type": "markdown",
      "source": [
        "o Write function named “string_alternative” that returns every other char in the full_name string.\n",
        "Str = “Good evening”\n",
        "Output: Go vnn\n",
        "\n",
        "Note: You need to create a function named “string_alternative” for this program and call it from\n",
        "main function."
      ],
      "metadata": {
        "id": "ljYauoWKlE2-"
      }
    },
    {
      "cell_type": "code",
      "source": [
        "def string_alternative(full_name):\n",
        "    result = full_name[::2]\n",
        "    return result\n",
        "full_name = input(\"Enter full_name: \")\n",
        "alternating_chars = string_alternative(full_name)\n",
        "print(alternating_chars)"
      ],
      "metadata": {
        "colab": {
          "base_uri": "https://localhost:8080/"
        },
        "id": "WFmGPKqxhOFt",
        "outputId": "bc176887-e2a5-439f-ed66-827d572ec75e"
      },
      "execution_count": 3,
      "outputs": [
        {
          "output_type": "stream",
          "name": "stdout",
          "text": [
            "Enter full_name: Sanjna Reddy\n",
            "Snn ed\n"
          ]
        }
      ]
    },
    {
      "cell_type": "markdown",
      "source": [
        "3. Write a program, which reads heights (inches.) of customers into a list and convert these heights to centimeters in a separate list using:\n",
        "\n",
        "1) Nested Interactive loop.\n",
        "\n",
        "2) List comprehensions"
      ],
      "metadata": {
        "id": "Vv0BAxuPlStr"
      }
    },
    {
      "cell_type": "markdown",
      "source": [
        "2) List comprehensions"
      ],
      "metadata": {
        "id": "sd5gZh-plq07"
      }
    },
    {
      "cell_type": "code",
      "source": [
        "List1=list(map(float,input(\"Enter the heights in inches of customers: \").split()))\n",
        "List2=[x*2.54 for x in List1]\n",
        "print(List2)"
      ],
      "metadata": {
        "colab": {
          "base_uri": "https://localhost:8080/"
        },
        "id": "C3OSrwL-iXL4",
        "outputId": "793f1fdd-605d-4924-c554-ef7b8a924073"
      },
      "execution_count": 6,
      "outputs": [
        {
          "output_type": "stream",
          "name": "stdout",
          "text": [
            "Enter the height in inches for customer: 150 155 145 148\n",
            "[381.0, 393.7, 368.3, 375.92]\n"
          ]
        }
      ]
    },
    {
      "cell_type": "markdown",
      "source": [
        "1) Nested Interactive loop."
      ],
      "metadata": {
        "id": "6yqcIZ32lu7r"
      }
    },
    {
      "cell_type": "code",
      "source": [
        "num_customers = int(input(\"Enter the number of customers: \"))\n",
        "heights_inches = [float(input(f\"Enter the height in inches of the customer {i + 1}: \")) for i in range(num_customers)]\n",
        "heights_cm = [inches * 2.54 for inches in heights_inches]\n",
        "for i in range(num_customers):\n",
        "    print(f\"Customer {i + 1}: {heights_inches[i]} inches = {heights_cm[i]} cm\")"
      ],
      "metadata": {
        "colab": {
          "base_uri": "https://localhost:8080/"
        },
        "id": "BPmhrtJhl9_2",
        "outputId": "bd8d6ceb-3a34-4e41-86d7-1fbb4009105f"
      },
      "execution_count": 8,
      "outputs": [
        {
          "output_type": "stream",
          "name": "stdout",
          "text": [
            "Enter the number of customers: 4\n",
            "Enter the height in inches for customer 1: 150\n",
            "Enter the height in inches for customer 2: 155\n",
            "Enter the height in inches for customer 3: 145\n",
            "Enter the height in inches for customer 4: 148\n",
            "Customer 1: 150.0 inches = 381.0 cm\n",
            "Customer 2: 155.0 inches = 393.7 cm\n",
            "Customer 3: 145.0 inches = 368.3 cm\n",
            "Customer 4: 148.0 inches = 375.92 cm\n"
          ]
        }
      ]
    },
    {
      "cell_type": "markdown",
      "source": [
        "2. Write a python program to find the wordcount in a file (input.txt) for each line and then print the output.\n",
        "\n",
        "o Finally store the output in output.txt file.\n",
        "\n",
        "Example:\n",
        "\n",
        "Input: a file includes two lines:\n",
        "\n",
        "Python Course\n",
        "\n",
        "Deep Learning Course\n",
        "\n",
        "Output:\n",
        "\n",
        "Python Course\n",
        "\n",
        "Deep Learning Course\n",
        "\n",
        "Word_Count:\n",
        "\n",
        "Python: 1\n",
        "\n",
        "Course: 2\n",
        "\n",
        "Deep: 1\n",
        "\n",
        "Learning: 1"
      ],
      "metadata": {
        "id": "-Tii0htGl1VH"
      }
    },
    {
      "cell_type": "code",
      "source": [
        "from collections import Counter\n",
        "with open('/content/drive/My Drive/input.txt', 'r') as input_file:\n",
        "    lines = input_file.readlines()\n",
        "\n",
        "output_lines = []\n",
        "list_of_words = []\n",
        "\n",
        "for line in lines:\n",
        "    line = line.strip()\n",
        "\n",
        "    list_of_words.extend(line.split(\" \"))\n",
        "\n",
        "\n",
        "element_count = Counter(list_of_words)\n",
        "\n",
        "for element, count in element_count.items():\n",
        "  output_lines.append(f\"{element}: {count}\")\n",
        "\n",
        "with open('/content/drive/My Drive/output.txt', 'w') as output_file:\n",
        "    output_file.write(\"Python Course\" + '\\n')\n",
        "    output_file.write(\"Deep Learning Course\" + '\\n')\n",
        "    output_file.write(\"Word_Count:\" + '\\n')\n",
        "    for line in output_lines:\n",
        "        output_file.write(line + '\\n')\n",
        "\n",
        "print(\"Output written to output.txt\")\n"
      ],
      "metadata": {
        "colab": {
          "base_uri": "https://localhost:8080/"
        },
        "id": "j5LWttm1mNU2",
        "outputId": "2c70a42e-e98f-4d46-c756-fcf5511d1051"
      },
      "execution_count": 11,
      "outputs": [
        {
          "output_type": "stream",
          "name": "stdout",
          "text": [
            "Output written to output.txt\n"
          ]
        }
      ]
    }
  ]
}