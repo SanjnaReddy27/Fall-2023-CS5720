{
  "nbformat": 4,
  "nbformat_minor": 0,
  "metadata": {
    "colab": {
      "provenance": [],
      "authorship_tag": "ABX9TyN+37Bwc/16DwjfsoMfrFr/",
      "include_colab_link": true
    },
    "kernelspec": {
      "name": "python3",
      "display_name": "Python 3"
    },
    "language_info": {
      "name": "python"
    }
  },
  "cells": [
    {
      "cell_type": "markdown",
      "metadata": {
        "id": "view-in-github",
        "colab_type": "text"
      },
      "source": [
        "<a href=\"https://colab.research.google.com/github/SanjnaReddy27/Fall-2023-CS5720/blob/main/Neural_Networks_%26_Deep_Learning_ICP_1.ipynb\" target=\"_parent\"><img src=\"https://colab.research.google.com/assets/colab-badge.svg\" alt=\"Open In Colab\"/></a>"
      ]
    },
    {
      "cell_type": "markdown",
      "source": [
        "1. (b)\n",
        "Take two numbers from user and perform at least 4 arithmetic operations on them."
      ],
      "metadata": {
        "id": "iC0V2kP9GaQ8"
      }
    },
    {
      "cell_type": "code",
      "source": [
        "x = int(input(\"Enter x: \"))\n",
        "y = int(input(\"Enter y: \"))\n",
        "print(\"Sum, Difference, Product and Modulus of numbers x and y are respectively: \", (x+y),(x-y),(x*y),(x%y))"
      ],
      "metadata": {
        "colab": {
          "base_uri": "https://localhost:8080/"
        },
        "id": "ce85y6OAruxN",
        "outputId": "da216200-ce1c-41e0-d601-00d692923d8f"
      },
      "execution_count": 94,
      "outputs": [
        {
          "output_type": "stream",
          "name": "stdout",
          "text": [
            "Enter x: 1\n",
            "Enter y: 2\n",
            "Sum, Difference, Product and Modulus of numbers x and y are respectively:  3 -1 2 1\n"
          ]
        }
      ]
    },
    {
      "cell_type": "markdown",
      "source": [
        "2. Write a program that accepts a sentence and replace each occurrence of ‘python’ with ‘pythons’.\n"
      ],
      "metadata": {
        "id": "aQJxVyIyLj_P"
      }
    },
    {
      "cell_type": "code",
      "source": [
        "a = input(\"Enter a sentence: \")\n",
        "p=\"python\"\n",
        "q=\"pythons\"\n",
        "print(\"Sentence that is generated after replacing ‘python’ with ‘pythons’: \", (a.replace(p,q)))"
      ],
      "metadata": {
        "colab": {
          "base_uri": "https://localhost:8080/"
        },
        "id": "anJjC5--w7zM",
        "outputId": "6f1d22c8-bf38-43fd-e7f8-2351ed904e62"
      },
      "execution_count": 93,
      "outputs": [
        {
          "output_type": "stream",
          "name": "stdout",
          "text": [
            "Enter a sentence: python is a programming language\n",
            "Sentence that is generated after replacing ‘python’ with ‘pythons’:  pythons is a programming language\n"
          ]
        }
      ]
    },
    {
      "cell_type": "markdown",
      "source": [
        "3. Use the if statement conditions to write a program to print the letter grade based on an input class score. Use the\n",
        "grading scheme we are using in this class."
      ],
      "metadata": {
        "id": "j_ZSkZ7tLrWy"
      }
    },
    {
      "cell_type": "code",
      "source": [
        "sco = int(input(\"Enter score: \"))\n",
        "if sco > 90:\n",
        "        print(\"Your grade is an A\")\n",
        "elif(sco > 80 and sco < 90):\n",
        "        print(\"Your grade is an B\")\n",
        "elif(sco > 70 and sco < 80):\n",
        "        print(\"Your grade is an C\")\n",
        "elif(sco > 60 and sco < 70):\n",
        "        print(\"Your grade is an D\")\n",
        "elif(sco < 60):\n",
        "        print(\"Failed\")\n",
        "else:\n",
        "         print(\"Wrong input\")"
      ],
      "metadata": {
        "colab": {
          "base_uri": "https://localhost:8080/"
        },
        "id": "kS1BhwyUy1_p",
        "outputId": "3f145a5f-53ef-46a5-904b-7da6959b9e8c"
      },
      "execution_count": 91,
      "outputs": [
        {
          "output_type": "stream",
          "name": "stdout",
          "text": [
            "Enter score: 82\n",
            "Your grade is an B\n"
          ]
        }
      ]
    },
    {
      "cell_type": "markdown",
      "source": [
        "1. (a) Input the string “Python” as a list of characters from console, delete at least 2 characters, reverse the resultant string and print it."
      ],
      "metadata": {
        "id": "HyM7LNh_G0qM"
      }
    },
    {
      "cell_type": "code",
      "source": [
        "string = input(\"Enter a string: \")\n",
        "Inpt = list(string)\n",
        "if len(Inpt)>=2:\n",
        " del Inpt[4:]\n",
        "Inpt.reverse()\n",
        "resultant_string = ''.join(Inpt)\n",
        "print(\"Resultant string:\", resultant_string)"
      ],
      "metadata": {
        "colab": {
          "base_uri": "https://localhost:8080/"
        },
        "id": "w_07187H2ilo",
        "outputId": "0a16589f-7222-4fe2-ad6e-61a5bd4904eb"
      },
      "execution_count": 92,
      "outputs": [
        {
          "output_type": "stream",
          "name": "stdout",
          "text": [
            "Enter a string: python\n",
            "Resultant string: htyp\n"
          ]
        }
      ]
    }
  ]
}