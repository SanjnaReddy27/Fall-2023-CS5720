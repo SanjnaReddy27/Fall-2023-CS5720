{
  "nbformat": 4,
  "nbformat_minor": 0,
  "metadata": {
    "colab": {
      "provenance": [],
      "authorship_tag": "ABX9TyM5gnOwAPYOGmAg3+YTncLr",
      "include_colab_link": true
    },
    "kernelspec": {
      "name": "python3",
      "display_name": "Python 3"
    },
    "language_info": {
      "name": "python"
    }
  },
  "cells": [
    {
      "cell_type": "markdown",
      "metadata": {
        "id": "view-in-github",
        "colab_type": "text"
      },
      "source": [
        "<a href=\"https://colab.research.google.com/github/SanjnaReddy27/Fall-2023-CS5720/blob/main/Lesson3_ICP3.ipynb\" target=\"_parent\"><img src=\"https://colab.research.google.com/assets/colab-badge.svg\" alt=\"Open In Colab\"/></a>"
      ]
    },
    {
      "cell_type": "markdown",
      "source": [
        "1. Create a class Employee and then do the following\n",
        "\n",
        "• Create a data member to count the number of Employees\n",
        "\n",
        "• Create a constructor to initialize name, family, salary, department\n",
        "\n",
        "• Create a function to average salary\n",
        "\n",
        "• Create a Fulltime Employee class and it should inherit the properties of Employee class\n",
        "\n",
        "• Create the instances of Fulltime Employee class and Employee class and call their member functions."
      ],
      "metadata": {
        "id": "6jWh_EPuMdZ0"
      }
    },
    {
      "cell_type": "code",
      "execution_count": 5,
      "metadata": {
        "colab": {
          "base_uri": "https://localhost:8080/"
        },
        "id": "nXrRuvdn40FZ",
        "outputId": "e93c97f6-54e3-4039-ed4f-bd6ba566407d"
      },
      "outputs": [
        {
          "output_type": "stream",
          "name": "stdout",
          "text": [
            "The number of Employees: 5\n",
            "Average salary of Employees: 74400.0\n"
          ]
        }
      ],
      "source": [
        "class Employee:\n",
        "# Count the number of employees\n",
        "    no_of_employees = 0\n",
        "\n",
        "    def __init__(self, name, family, salary, department):\n",
        "        self.name = name\n",
        "        self.family = family\n",
        "        self.salary = salary\n",
        "        self.department = department\n",
        "        Employee.no_of_employees += 1\n",
        "\n",
        "    def average_salary(self, employees):\n",
        "        total_salary = sum(emp.salary for emp in employees)\n",
        "        return total_salary / len(employees) if len(employees) > 0 else 0\n",
        "\n",
        "class FulltimeEmployee(Employee):\n",
        "    def __init__(self, name, family, salary, department):\n",
        "        super().__init__(name, family, salary, department)\n",
        "\n",
        "# Instances of Employee class\n",
        "employee1 = Employee(\"Sanjna\", \"Child\", 90000, \"IT\")\n",
        "employee2 = Employee(\"Nandhini\", \"Spouse\", 65000, \"Administration\")\n",
        "employee3 = Employee(\"Pavani\", \"Child\", 72000, \"Support\")\n",
        "\n",
        "# Instances of FulltimeEmployee class\n",
        "fulltime_employee1 = FulltimeEmployee(\"Ram\", \"Spouse\", 70000, \"Finance\")\n",
        "fulltime_employee2 = FulltimeEmployee(\"Sita\", \"Child\", 75000, \"HR\")\n",
        "\n",
        "# Calling the average_salary function\n",
        "employees = [employee1, employee2, employee3, fulltime_employee1, fulltime_employee2]\n",
        "avg_salary = employee1.average_salary(employees)\n",
        "\n",
        "print(\"The number of Employees:\", Employee.no_of_employees)\n",
        "print(\"Average salary of Employees:\", avg_salary)"
      ]
    },
    {
      "cell_type": "markdown",
      "source": [
        "2. Numpy\n",
        "\n",
        "Using NumPy create random vector of size 20 having only float in the range 1-20.\n",
        "\n",
        "Then reshape the array to 4 by 5\n",
        "\n",
        "Then replace the max in each row by 0 (axis=1)\n",
        "\n",
        "(you can NOT implement it via for loop)"
      ],
      "metadata": {
        "id": "TZnoEXyJMuxx"
      }
    },
    {
      "cell_type": "code",
      "source": [
        "import numpy as np\n",
        "\n",
        "# Create a random vector of size 20 having only float in the range 1-20\n",
        "random_vector = np.random.uniform(1, 20, 20)\n",
        "\n",
        "#  Reshape the array to 4 by 5\n",
        "reshaped_array = random_vector.reshape(4, 5)\n",
        "\n",
        "# replace the max in each row by 0 (axis=1)\n",
        "#(Implemented it without for loop)\n",
        "reshaped_array[np.arange(4), np.argmax(reshaped_array, axis=1)] = 0\n",
        "\n",
        "print(reshaped_array)"
      ],
      "metadata": {
        "colab": {
          "base_uri": "https://localhost:8080/"
        },
        "id": "eCfSfYqC441u",
        "outputId": "bbbe44d9-803d-4485-a9a5-b7943761f95b"
      },
      "execution_count": 6,
      "outputs": [
        {
          "output_type": "stream",
          "name": "stdout",
          "text": [
            "[[ 0.         10.27565943 14.16299592 15.8850175  17.94246123]\n",
            " [ 0.         14.33566602 10.4337653  14.87234673 13.91636839]\n",
            " [11.9302718  10.29369052 13.14423807  0.         11.97444539]\n",
            " [10.48115603  1.39181795  0.         12.61687366  9.11559564]]\n"
          ]
        }
      ]
    }
  ]
}